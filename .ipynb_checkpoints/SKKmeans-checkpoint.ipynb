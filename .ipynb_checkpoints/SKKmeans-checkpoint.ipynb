{
 "cells": [
  {
   "cell_type": "code",
   "execution_count": 1,
   "metadata": {
    "collapsed": true
   },
   "outputs": [],
   "source": [
    "import h5py\n",
    "import numpy as np\n",
    "import matplotlib.pyplot as plt\n",
    "import sys\n",
    "sys.path.append('./HDF5Module')\n",
    "sys.path.append('./KMeans')\n",
    "import readh5\n",
    "from sklearn.cluster import KMeans\n",
    "\n"
   ]
  },
  {
   "cell_type": "code",
   "execution_count": 2,
   "metadata": {
    "collapsed": false
   },
   "outputs": [
    {
     "name": "stdout",
     "output_type": "stream",
     "text": [
      "Successfully load data\n",
      "[[False False False ..., False False False]\n",
      " [False False False ..., False False False]\n",
      " [False False False ..., False False False]\n",
      " ..., \n",
      " [False False False ..., False False False]\n",
      " [False False False ..., False False False]\n",
      " [False False False ..., False False False]] 0\n",
      "[[False False False ..., False False False]\n",
      " [False False False ..., False False False]\n",
      " [False False False ..., False False False]\n",
      " ..., \n",
      " [False False False ..., False False False]\n",
      " [False False False ..., False False False]\n",
      " [False False False ..., False False False]] 0\n",
      "(195, 32400)\n"
     ]
    }
   ],
   "source": [
    "data = readh5.mergeDataSet('../weiner', r'(.*?)weiner\\.hdf')\n",
    "data = data.reshape(data.shape[0], -1)[0:200, :]\n",
    "data = data[~np.isnan(data).any(axis=1)]\n",
    "print np.isinf(data), np.sum(np.isinf(data))\n",
    "print np.isnan(data), np.sum(np.isnan(data))\n",
    "print data.shape\n",
    "\n"
   ]
  },
  {
   "cell_type": "code",
   "execution_count": 4,
   "metadata": {
    "collapsed": false
   },
   "outputs": [
    {
     "name": "stdout",
     "output_type": "stream",
     "text": [
      "[18  5  3 59  5  5  5 67 40  9  5 10 42 81 54  5  5  5 19 62  5 66  5 27 56\n",
      " 63 16 30 89  7 13 73  5 55 34  5  5 79 33 11 91  5  5  8  5 32  5 85 74 20\n",
      " 75 65 70  5  5  5  2  5  5 98 51 25  5 31 26  5 60 77 24 95 17  6  5  4  5\n",
      " 69 65 29  5 45  5 12  5  5 43 49 61  2 83 14 88 38 58 71 44 80 48 65 15 87\n",
      "  5  5 65 86 65 50 68 35  5 65 92 90 99  5 72 53 36 23 76  5 65 82  5  1 41\n",
      "  5 96  5 78  5 65 21 65 65 94 64 84  5 65  0  5  5 57 65 46 47 28  5 22 39\n",
      " 93  5 97  5  5 65  5 52 37 65 65 65 65 65 65  2 65 65 65 65 65 65 65 65 65\n",
      " 65 65 65 65 65 65 65 65 65 65 65 65 65 65 65 65 65 65 65 65] 195\n"
     ]
    }
   ],
   "source": [
    "kclf = KMeans(n_clusters=100, random_state=0).fit(data)\n",
    "pred = kclf.predict(data)\n",
    "print pred, len(pred)\n"
   ]
  },
  {
   "cell_type": "code",
   "execution_count": 6,
   "metadata": {
    "collapsed": false
   },
   "outputs": [
    {
     "name": "stdout",
     "output_type": "stream",
     "text": [
      "<type 'numpy.ndarray'>\n"
     ]
    }
   ],
   "source": [
    "print type(pred)"
   ]
  },
  {
   "cell_type": "code",
   "execution_count": 8,
   "metadata": {
    "collapsed": false
   },
   "outputs": [],
   "source": [
    "stacked = np.zeros((100,) + (data.shape[1],))\n"
   ]
  },
  {
   "cell_type": "code",
   "execution_count": 25,
   "metadata": {
    "collapsed": false
   },
   "outputs": [
    {
     "name": "stdout",
     "output_type": "stream",
     "text": [
      "[False False False False False False False False False False False False\n",
      " False False False False False False False False False False False False\n",
      " False False False False False False False False False False False False\n",
      " False False False False False False False False False False False False\n",
      " False False False False False False False False False False False False\n",
      " False False False False False False False False False False False False\n",
      " False False False False False False False False False False False False\n",
      " False False False False False False False False False False False False\n",
      " False False False False False False False False False False False False\n",
      " False False False False False False False False False False False False\n",
      " False False False  True False False False False False False False False\n",
      " False False False False False False False False False False False False\n",
      " False False False False False False False False False False False False\n",
      " False False False False False False False False False False False False\n",
      " False False False False False False False False False False False False\n",
      " False False False False False False False False False False False False\n",
      " False False False]\n",
      "(3, 32400)\n",
      "(32400,)\n"
     ]
    }
   ],
   "source": [
    "\n",
    "x = np.where(pred == 2)\n",
    "dt = [data[j] for j in x]\n",
    "print dt[0].shape\n",
    "a = np.sum(dt[0],0)/float(dt[0].shape[0])\n",
    "print a.shape"
   ]
  },
  {
   "cell_type": "code",
   "execution_count": null,
   "metadata": {
    "collapsed": true
   },
   "outputs": [],
   "source": [
    "for i in range(100):\n",
    "    if i in pred:\n",
    "        index = np.where(pred == i)\n",
    "        dt = [data[]]\n",
    "        stacked[i] = np.sum(dt[0],0)/float(dt[0].shape[0])"
   ]
  },
  {
   "cell_type": "code",
   "execution_count": null,
   "metadata": {
    "collapsed": true
   },
   "outputs": [],
   "source": []
  },
  {
   "cell_type": "code",
   "execution_count": null,
   "metadata": {
    "collapsed": true
   },
   "outputs": [],
   "source": [
    "result = h5py.File('clusterResult_.hdf', 'w')\n",
    "result.create_group('MDF')\n",
    "result['MDF'].create_group('images')\n",
    "for i in range(stacked.shape[0]):\n",
    "    images = result['MDF']['images']\n",
    "    images.create_group(str(i))\n",
    "    images[str(i)].create_dataset(\n",
    "        'image',\n",
    "        shape=(180, 180),\n",
    "        dtype='float32',\n",
    "        data=kclf.cluster_centers_[i, :].reshape(180, 180))\n",
    "result.close()\n",
    "print kclf.cluster_centers_.shape"
   ]
  }
 ],
 "metadata": {
  "kernelspec": {
   "display_name": "Python 2",
   "language": "python",
   "name": "python2"
  },
  "language_info": {
   "codemirror_mode": {
    "name": "ipython",
    "version": 2
   },
   "file_extension": ".py",
   "mimetype": "text/x-python",
   "name": "python",
   "nbconvert_exporter": "python",
   "pygments_lexer": "ipython2",
   "version": "2.7.13"
  }
 },
 "nbformat": 4,
 "nbformat_minor": 2
}
