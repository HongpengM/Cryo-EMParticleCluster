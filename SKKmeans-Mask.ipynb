{
 "cells": [
  {
   "cell_type": "code",
   "execution_count": 2,
   "metadata": {
    "collapsed": true
   },
   "outputs": [],
   "source": [
    "import h5py\n",
    "import numpy as np\n",
    "import matplotlib.pyplot as plt\n",
    "import sys\n",
    "sys.path.append('./HDF5Module')\n",
    "sys.path.append('./KMeans')\n",
    "import readh5\n",
    "from sklearn.cluster import KMeans\n",
    "import scipy.ndimage\n",
    "import scipy.misc\n",
    "rotate = scipy.ndimage.interpolation.rotate\n",
    "resize = scipy.misc.imresize\n"
   ]
  },
  {
   "cell_type": "code",
   "execution_count": 5,
   "metadata": {
    "collapsed": false
   },
   "outputs": [
    {
     "name": "stdout",
     "output_type": "stream",
     "text": [
      "Successfully load data\n"
     ]
    }
   ],
   "source": [
    "data = readh5.mergeDataSet('../weiner', r'(.*?)weiner\\.hdf')\n",
    "data2 = np.zeros((data.shape[0] * 8,) + (data.shape[1] / 3,) + (data.shape[2] / 3,))\n",
    "for i in range(data.shape[0]):\n",
    "    for j in range(8):\n",
    "        datai = data[i]\n",
    "        data2[8 * i + j] = resize(rotate(datai ,45 * j, reshape=False), (data.shape[1] / 3,) + (data.shape[2] / 3,))\n",
    "with h5py.File('rotated.hdf','w') as h:\n",
    "    h.create_group('images')\n",
    "    for i in range(data.shape[0]):\n",
    "        for j in range(8):\n",
    "            h['images'].create_dataset(\n",
    "                str(i) + '_' + str(j*45),\n",
    "                shape=data2[8 * i + j, :].shape,\n",
    "                dtype='float32',\n",
    "                data=data2[8 * i + j, :])\n",
    "\n",
    "            "
   ]
  },
  {
   "cell_type": "code",
   "execution_count": null,
   "metadata": {
    "collapsed": true
   },
   "outputs": [],
   "source": [
    "data = data2"
   ]
  },
  {
   "cell_type": "code",
   "execution_count": 13,
   "metadata": {
    "collapsed": false
   },
   "outputs": [
    {
     "name": "stdout",
     "output_type": "stream",
     "text": [
      "[27 62  4 ...,  0  0  0] 9832\n"
     ]
    }
   ],
   "source": [
    "kclf = KMeans(n_clusters=100, random_state=0).fit(data)\n",
    "pred = kclf.predict(data)\n",
    "print pred, len(pred)\n"
   ]
  },
  {
   "cell_type": "code",
   "execution_count": 14,
   "metadata": {
    "collapsed": false
   },
   "outputs": [
    {
     "name": "stdout",
     "output_type": "stream",
     "text": [
      "<type 'numpy.ndarray'>\n"
     ]
    }
   ],
   "source": [
    "print type(pred)"
   ]
  },
  {
   "cell_type": "code",
   "execution_count": 15,
   "metadata": {
    "collapsed": false
   },
   "outputs": [],
   "source": [
    "stacked = np.zeros((100,) + (data.shape[1],))\n"
   ]
  },
  {
   "cell_type": "code",
   "execution_count": 16,
   "metadata": {
    "collapsed": false
   },
   "outputs": [
    {
     "name": "stdout",
     "output_type": "stream",
     "text": [
      "(1, 32400)\n",
      "(32400,)\n"
     ]
    }
   ],
   "source": [
    "\n",
    "x = np.where(pred == 2)\n",
    "dt = [data[j] for j in x]\n",
    "print dt[0].shape\n",
    "a = np.sum(dt[0],0)/float(dt[0].shape[0])\n",
    "print a.shape"
   ]
  },
  {
   "cell_type": "code",
   "execution_count": 17,
   "metadata": {
    "collapsed": false
   },
   "outputs": [],
   "source": [
    "for i in range(100):\n",
    "    if i in pred:\n",
    "        index = np.where(pred == i)\n",
    "        dt = [data[j] for j in index]\n",
    "        stacked[i] = np.sum(dt[0],0)/float(dt[0].shape[0])"
   ]
  },
  {
   "cell_type": "code",
   "execution_count": 18,
   "metadata": {
    "collapsed": false
   },
   "outputs": [
    {
     "name": "stdout",
     "output_type": "stream",
     "text": [
      "(100, 32400)\n"
     ]
    }
   ],
   "source": [
    "print stacked.shape"
   ]
  },
  {
   "cell_type": "code",
   "execution_count": 19,
   "metadata": {
    "collapsed": false
   },
   "outputs": [
    {
     "name": "stdout",
     "output_type": "stream",
     "text": [
      "(100, 32400)\n"
     ]
    }
   ],
   "source": [
    "result = h5py.File('clusterResult_masked.hdf', 'w')\n",
    "result.create_group('MDF')\n",
    "result['MDF'].create_group('images')\n",
    "for i in range(stacked.shape[0]):\n",
    "    images = result['MDF']['images']\n",
    "    images.create_group(str(i))\n",
    "    images[str(i)].create_dataset(\n",
    "        'image',\n",
    "        shape=(180, 180),\n",
    "        dtype='float32',\n",
    "        data=kclf.cluster_centers_[i, :].reshape(180, 180))\n",
    "result.close()\n",
    "print kclf.cluster_centers_.shape"
   ]
  }
 ],
 "metadata": {
  "kernelspec": {
   "display_name": "Python 2",
   "language": "python",
   "name": "python2"
  },
  "language_info": {
   "codemirror_mode": {
    "name": "ipython",
    "version": 2
   },
   "file_extension": ".py",
   "mimetype": "text/x-python",
   "name": "python",
   "nbconvert_exporter": "python",
   "pygments_lexer": "ipython2",
   "version": "2.7.13"
  }
 },
 "nbformat": 4,
 "nbformat_minor": 2
}
